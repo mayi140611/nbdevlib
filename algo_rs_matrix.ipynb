{
 "cells": [
  {
   "cell_type": "code",
   "execution_count": 3,
   "metadata": {},
   "outputs": [],
   "source": [
    "# default_exp algo.rs.matrix\n",
    "\n",
    "%reload_ext autoreload\n",
    "%autoreload 2"
   ]
  },
  {
   "cell_type": "markdown",
   "metadata": {},
   "source": [
    "# 介绍\n",
    "封装和rs相关的矩阵构建和分解的方法"
   ]
  },
  {
   "cell_type": "markdown",
   "metadata": {},
   "source": [
    "# 共现矩阵\n",
    "以item_item_matrix的构建为例\n",
    "\n",
    "一般共现矩阵比较稀疏\n",
    "\n",
    "这里需要定义 什么是共现\n",
    "* 是只要在一个list中就算是共现、\n",
    "* 还是在list的一个window中算共现、\n",
    "* 还是别的(如必须在item1出现之前的item才算与其共现)\n",
    "\n",
    "还需要定义共现的权重\n",
    "* 共现一次 +1\n",
    "* 还是别的 方式，如与共现的距离相关，离的越远权重越小"
   ]
  },
  {
   "cell_type": "code",
   "execution_count": 1,
   "metadata": {},
   "outputs": [],
   "source": [
    "#export\n",
    "import scipy.sparse as sp\n",
    "import pandas as pd\n",
    "import numpy as np\n",
    "import os\n",
    "from tqdm import tqdm"
   ]
  },
  {
   "cell_type": "markdown",
   "metadata": {},
   "source": [
    "## build_co_occurance_matrix"
   ]
  },
  {
   "cell_type": "code",
   "execution_count": 24,
   "metadata": {},
   "outputs": [],
   "source": [
    "#export\n",
    "\n",
    "def build_co_occurance_matrix(items_list, window=9999,penalty1=False,penalty2=False,penalty3=1, save_dir=None):\n",
    "    \"\"\"\n",
    "    \n",
    "    :items_list:\n",
    "        [\n",
    "            [item1, item2], \n",
    "            [item1, item2, item4], \n",
    "            ...\n",
    "        ]\n",
    "    : window: int\n",
    "        只有在window内才算共现\n",
    "    : penalty1:\n",
    "        对距离惩罚，距离越远，相关性越小\n",
    "    : penalty2:\n",
    "        对list长度惩罚，长度越长，对共现的价值越小\n",
    "    : penalty3: float\n",
    "        对seq方向惩罚，方向为正 不惩罚，否则惩罚\n",
    "        1表示不惩罚\n",
    "    :return:\n",
    "        \n",
    "    \n",
    "    \"\"\"\n",
    "    \n",
    "    items = pd.Series(list(set([ii for i in items_list for ii in i])))\n",
    "    item2id = pd.Series(items.index, items)\n",
    "    \n",
    "    n_items = items.shape[0]\n",
    "    print(f'n_items: {n_items}')\n",
    "    train_data_matrix = sp.lil_matrix((n_items, n_items), dtype=np.float)\n",
    "    for items_ in tqdm(items_list):\n",
    "        for i, item in enumerate(items_):\n",
    "            for j, related_item in enumerate(items_):\n",
    "                distance = np.abs(i-j)\n",
    "                if (item != related_item) and (distance<window):\n",
    "                    vt = 1 \n",
    "                    if penalty1:\n",
    "                        vt /= np.log2(distance+1)\n",
    "                    if penalty2:\n",
    "                        vt /= np.log2(len(items_)+1)\n",
    "                    if i < j:\n",
    "                        vt *= penalty3\n",
    "                    train_data_matrix[item2id.loc[item], item2id.loc[related_item]] += vt\n",
    "    if save_dir:\n",
    "        if not os.path.exists(save_dir):\n",
    "            print(f'create matrix dir{save_dir}')\n",
    "            os.mkdir(save_dir)\n",
    "        items.to_pickle(os.path.join(save_dir, f'id2item_series_{penalty1}_{penalty2}_{penalty3}.pkl'))\n",
    "        item2id.to_pickle(os.path.join(save_dir, f'item2id_series_{penalty1}_{penalty2}_{penalty3}.pkl'))\n",
    "        sp.save_npz(os.path.join(save_dir, f'item_item_matrix_{penalty1}_{penalty2}_{penalty3}.npz'), train_data_matrix.tocsc())\n",
    "        print(f'save matrix to {save_dir}, finished')\n",
    "    return train_data_matrix, items, item2id"
   ]
  },
  {
   "cell_type": "markdown",
   "metadata": {},
   "source": [
    "## load_co_occurance_matrix"
   ]
  },
  {
   "cell_type": "code",
   "execution_count": 35,
   "metadata": {},
   "outputs": [],
   "source": [
    "#export\n",
    "def load_co_occurance_matrix(save_dir,penalty1,penalty2,penalty3):\n",
    "    id2item = pd.read_pickle(os.path.join(save_dir, f'id2item_series_{penalty1}_{penalty2}_{penalty3}.pkl'))\n",
    "    item2id = pd.read_pickle(os.path.join(save_dir, f'item2id_series_{penalty1}_{penalty2}_{penalty3}.pkl'))\n",
    "    co_occurance_matrix = sp.load_npz(os.path.join(save_dir, f'item_item_matrix_{penalty1}_{penalty2}_{penalty3}.npz'))\n",
    "    return co_occurance_matrix, id2item, item2id"
   ]
  },
  {
   "cell_type": "markdown",
   "metadata": {},
   "source": [
    "# user_item_matrix"
   ]
  },
  {
   "cell_type": "code",
   "execution_count": 4,
   "metadata": {},
   "outputs": [],
   "source": [
    "#export\n",
    "def build_user_item_matrix(df, user_col, item_col):\n",
    "    \"\"\"\n",
    "    使用pd.crosstab(df[user_col], df[item_col])可以直接达到目的，但是当items很大时，会报异常:\n",
    "    ValueError: Unstacked DataFrame is too big, causing int32 overflow\n",
    "    \"\"\"\n",
    "    \n",
    "    n_users = df[user_col].nunique()\n",
    "    n_items = df[item_col].nunique()\n",
    "    id2user = df[user_col].drop_duplicates().reset_index(drop=True)\n",
    "    user2id = pd.Series(id2user.index, id2user)\n",
    "    id2item = df[item_col].drop_duplicates().reset_index(drop=True)\n",
    "    item2id = pd.Series(id2item.index, id2item)\n",
    "    print(f'n_users: {n_users}, n_items: {n_items}')\n",
    "    train_data_matrix = sp.lil_matrix((n_users, n_items))\n",
    "    for line in df[[user_col, item_col]].itertuples():\n",
    "        train_data_matrix[user2id[line[1]], item2id[line[2]]] += 1\n",
    "    train_data_matrix = train_data_matrix.tocsc()\n",
    "    train_data_matrix.data = np.log(train_data_matrix.data + 1)\n",
    "    return train_data_matrix, id2user, user2id, id2item, item2id"
   ]
  },
  {
   "cell_type": "markdown",
   "metadata": {},
   "source": [
    "# 余弦相似矩阵"
   ]
  },
  {
   "cell_type": "markdown",
   "metadata": {},
   "source": [
    "## build_item_item_cosine_matrix"
   ]
  },
  {
   "cell_type": "code",
   "execution_count": 30,
   "metadata": {},
   "outputs": [],
   "source": [
    "#export\n",
    "def build_item_item_cosine_matrix(matr, Y=None):\n",
    "    \"\"\"\n",
    "    由于item一般数据很多(数10w)，需要很大的内存\n",
    "    \"\"\"\n",
    "    from sklearn.metrics.pairwise import cosine_similarity\n",
    "    return cosine_similarity(matr, Y)"
   ]
  },
  {
   "cell_type": "code",
   "execution_count": 33,
   "metadata": {},
   "outputs": [
    {
     "data": {
      "text/plain": [
       "array([[0, 1, 2, 3],\n",
       "       [4, 5, 6, 7]])"
      ]
     },
     "execution_count": 33,
     "metadata": {},
     "output_type": "execute_result"
    }
   ],
   "source": [
    "matr = np.arange(8).reshape(2, 4)\n",
    "matr"
   ]
  },
  {
   "cell_type": "code",
   "execution_count": 34,
   "metadata": {},
   "outputs": [
    {
     "data": {
      "text/plain": [
       "array([[1.       , 0.9047619],\n",
       "       [0.9047619, 1.       ]])"
      ]
     },
     "execution_count": 34,
     "metadata": {},
     "output_type": "execute_result"
    }
   ],
   "source": [
    "item_item_cosine_matrix(matr)"
   ]
  },
  {
   "cell_type": "markdown",
   "metadata": {},
   "source": [
    "# nb_export"
   ]
  },
  {
   "cell_type": "code",
   "execution_count": 5,
   "metadata": {},
   "outputs": [
    {
     "name": "stdout",
     "output_type": "stream",
     "text": [
      "Converted 00_core.ipynb.\n",
      "Converted 00_template.ipynb.\n",
      "Converted algo_dl_keras.ipynb.\n",
      "Converted algo_ml_shallow_tree_catboost.ipynb.\n",
      "Converted algo_rs_associated_rules.ipynb.\n",
      "Converted algo_rs_matrix.ipynb.\n",
      "Converted algo_seq_embeding.ipynb.\n",
      "Converted algo_seq_tfidf.ipynb.\n",
      "Converted engineering_nbdev.ipynb.\n",
      "Converted engineering_panel.ipynb.\n",
      "Converted index.ipynb.\n"
     ]
    }
   ],
   "source": [
    "from nbdev.export import *\n",
    "notebook2script()"
   ]
  },
  {
   "cell_type": "code",
   "execution_count": 7,
   "metadata": {},
   "outputs": [
    {
     "name": "stdout",
     "output_type": "stream",
     "text": [
      "No notebooks were modified\r\n",
      "converting /Users/luoyonggui/PycharmProjects/nbdevlib/index.ipynb to README.md\r\n"
     ]
    }
   ],
   "source": [
    "!nbdev_build_docs"
   ]
  },
  {
   "cell_type": "code",
   "execution_count": null,
   "metadata": {},
   "outputs": [],
   "source": []
  }
 ],
 "metadata": {
  "kernelspec": {
   "display_name": "Python 3",
   "language": "python",
   "name": "python3"
  },
  "language_info": {
   "codemirror_mode": {
    "name": "ipython",
    "version": 3
   },
   "file_extension": ".py",
   "mimetype": "text/x-python",
   "name": "python",
   "nbconvert_exporter": "python",
   "pygments_lexer": "ipython3",
   "version": "3.7.3"
  },
  "toc": {
   "base_numbering": 1,
   "nav_menu": {},
   "number_sections": true,
   "sideBar": true,
   "skip_h1_title": false,
   "title_cell": "Table of Contents",
   "title_sidebar": "Contents",
   "toc_cell": false,
   "toc_position": {},
   "toc_section_display": true,
   "toc_window_display": true
  }
 },
 "nbformat": 4,
 "nbformat_minor": 2
}
