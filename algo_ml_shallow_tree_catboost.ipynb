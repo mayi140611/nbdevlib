{
 "cells": [
  {
   "cell_type": "code",
   "execution_count": 1,
   "metadata": {},
   "outputs": [],
   "source": [
    "# default_exp algo.ml.shallow.tree.catboost"
   ]
  },
  {
   "cell_type": "markdown",
   "metadata": {},
   "source": [
    "# Catboost\n",
    "\n",
    "CatBoost is an algorithm for gradient boosting on decision trees.\n",
    "\n",
    "* 官网https://catboost.ai/\n",
    "* https://github.com/catboost/catboost 是一个C++库  \n",
    "* https://github.com/catboost/tutorials  \n",
    "* 论文地址https://arxiv.org/pdf/1706.09516.pdf"
   ]
  },
  {
   "cell_type": "markdown",
   "metadata": {},
   "source": [
    "## install"
   ]
  },
  {
   "cell_type": "code",
   "execution_count": 3,
   "metadata": {},
   "outputs": [
    {
     "name": "stdout",
     "output_type": "stream",
     "text": [
      "catboost==0.23\r\n"
     ]
    }
   ],
   "source": [
    "# !pip install catboost -U\n",
    "!pip freeze | grep catboost"
   ]
  },
  {
   "cell_type": "markdown",
   "metadata": {},
   "source": [
    "# encap"
   ]
  },
  {
   "cell_type": "code",
   "execution_count": null,
   "metadata": {},
   "outputs": [],
   "source": [
    "#export\n",
    "from sklearn.metrics import classification_report\n",
    "\n",
    "from catboost import Pool"
   ]
  },
  {
   "cell_type": "code",
   "execution_count": null,
   "metadata": {},
   "outputs": [],
   "source": [
    "def time_cost(func):\n",
    "    import time\n",
    "    def wrapper(*args,**kvargs):\n",
    "        tic=time.time()\n",
    "        result=func(*args,**kvargs)\n",
    "        toc=time.time()\n",
    "        print('{} is called. {}s is used.'.format(func.__name__,toc-tic))\n",
    "        return result\n",
    "    return wrapper"
   ]
  },
  {
   "cell_type": "code",
   "execution_count": null,
   "metadata": {},
   "outputs": [],
   "source": [
    "@time_cost\n",
    "def load_data(fp):\n",
    "    return df"
   ]
  },
  {
   "cell_type": "code",
   "execution_count": null,
   "metadata": {},
   "outputs": [],
   "source": [
    "def trainset_input_fn(df):\n",
    "    return X_train, X_val, y_train, y_val\n",
    "\n",
    "def predict_input_fn(df):\n",
    "    return X_testa"
   ]
  },
  {
   "cell_type": "code",
   "execution_count": null,
   "metadata": {},
   "outputs": [],
   "source": [
    "def train(df_train, y_train, cat_cols,df_val=None, y_val=None, iterations=500, custom_metric='F1', plot=False):\n",
    "\n",
    "    train_data = Pool(data=df_train,\n",
    "                   label=y_train,\n",
    "                   cat_features=cat_cols)\n",
    "    val_data = Pool(data=df_val, label=y_val, cat_features=cat_cols) if df_val is not None else None\n",
    "    if iterations==0:\n",
    "    iterations = 1\n",
    "    params = {\n",
    "    'iterations': iterations,\n",
    "    'learning_rate': 0.05,\n",
    "    'random_seed': 144,\n",
    "    'custom_metric': custom_metric,\n",
    "    'loss_function': 'Logloss',\n",
    "    'class_weights': [1, 8],\n",
    "    # 'use_best_model': True\n",
    "    }\n",
    "    print(params)\n",
    "    model = CatBoostClassifier(**params)\n",
    "    r = model.fit(train_data, eval_set=val_data, verbose=True)\n",
    "    df_features_importance = pd.DataFrame({'name': model.feature_names_,\n",
    "                                        'value': model.feature_importances_})\n",
    "    df_features_importance = df_features_importance.sort_values('value', ascending=False)\n",
    "\n",
    "    df_features_importance.reset_index(drop=True, inplace=True)\n",
    "    print(df_features_importance.head(50))\n",
    "    if plot:\n",
    "    import matplotlib.pyplot as plt\n",
    "    fea_ = df_features_importance.sort_values('value')[df_features_importance.value > 0].value\n",
    "    fea_name = df_features_importance.sort_values('value')[df_features_importance.value > 0].name\n",
    "    plt.figure(figsize=(10, 20))\n",
    "    plt.barh(fea_name, fea_, height=0.5)\n",
    "    plt.show()\n",
    "    return model, df_features_importance, r.best_iteration_\n"
   ]
  },
  {
   "cell_type": "code",
   "execution_count": null,
   "metadata": {},
   "outputs": [],
   "source": [
    "#export\n",
    "def val(model, df_val, y_val, cat_cols):\n",
    "    test_data = Pool(data=df_val,\n",
    "                  cat_features=cat_cols)\n",
    "    print(pd.Series(model.predict(test_data)).value_counts())\n",
    "    print(classification_report(y_val, model.predict(test_data)))\n",
    "    dfr = pd.DataFrame(y_val)\n",
    "    dfr.columns = ['true_label']\n",
    "    dfr['CHANGE_ID'] = df_val['CHANGE_ID']\n",
    "    y_test_hat = model.predict_proba(test_data)[:, 1]\n",
    "    dfr['score'] = y_test_hat\n",
    "    dfr['predict_label'] = model.predict(test_data)\n",
    "    dfr = dfr.sort_values('score', ascending=False)\n",
    "    dfr['order'] = range(1, dfr.shape[0] + 1)\n",
    "    print(dfr[dfr.true_label == 1])\n",
    "    return dfr"
   ]
  },
  {
   "cell_type": "code",
   "execution_count": 12,
   "metadata": {},
   "outputs": [],
   "source": [
    "#export\n",
    "def predict(model,df_predict,cat_cols, thr=0.5):\n",
    "    test_data=Pool(data=df_predict,cat_features=cat_cols)\n",
    "    dfr=pd.DataFrame(df_predict['CHANGE_ID'])\n",
    "    y_test_hat=model.predict_proba(test_data)[:,1]\n",
    "    dfr['score']=y_test_hat\n",
    "    dfr['predict_label'] = 0\n",
    "    dfr.loc[dfr.score>=thr, 'predict_label']=1\n",
    "    dfr.sort_values(\"score\", ascending=False, inplace=True)\n",
    "    print('--------------------------------------------------')\n",
    "    s=dfr['predict_label'].value_counts()\n",
    "    print(s)\n",
    "    print(f'su sample num：{s.loc[1] if 1 in s else 0}')\n",
    "    return dfr"
   ]
  },
  {
   "cell_type": "code",
   "execution_count": 2,
   "metadata": {},
   "outputs": [],
   "source": [
    "# export\n",
    "def explain(model,df_predict,cat_cols,dfr):\n",
    "    test_data=Pool(data=df_predict,cat_features=cat_cols)\n",
    "    shap_values=model.get_feature_importance(test_data,type='ShapValues')\n",
    "    dfs=pd.DataFrame(shap_values[:,:-1],columns=df_predict.columns,index=df_predict['CHANGE_ID'])\n",
    "    dfs_T=dfs.T\n",
    "    ss=[]\n",
    "    for i in range(dfs_T.shape[1]):\n",
    "    ss.append(dfs_T.iloc[:,i].copy().sort_values(ascending=False).iloc[:5])\n",
    "    count=0\n",
    "    rr=[]\n",
    "    for line in dfr[dfr.predict_label==1].itertuples():\n",
    "        rr.append({\"change_id\":line.CHANGE_ID,\"FS_SC_NM\":\"个险模型\",\"FS_SC_SCORE\":round(line.score,2),\"FS_SC_EXPLAIN\":','.join([f'{i[0]}:{round(i[1], 2)}' for i in list(zip(ss[count].index,ss[count].values))])})\n",
    "    count+=1\n",
    "    print(rr)\n",
    "    return rr"
   ]
  },
  {
   "cell_type": "markdown",
   "metadata": {},
   "source": [
    "# nb_export"
   ]
  },
  {
   "cell_type": "code",
   "execution_count": 4,
   "metadata": {},
   "outputs": [
    {
     "name": "stdout",
     "output_type": "stream",
     "text": [
      "Converted 00_core.ipynb.\n",
      "Converted 00_template.ipynb.\n",
      "Converted algo_ml_shallow_tree_catboost.ipynb.\n",
      "Converted dl_keras.ipynb.\n",
      "Converted engineering_nbdev.ipynb.\n",
      "Converted engineering_panel.ipynb.\n",
      "Converted index.ipynb.\n"
     ]
    }
   ],
   "source": [
    "from nbdev.export import *\n",
    "notebook2script()"
   ]
  },
  {
   "cell_type": "code",
   "execution_count": 5,
   "metadata": {},
   "outputs": [
    {
     "name": "stdout",
     "output_type": "stream",
     "text": [
      "converting: /Users/luoyonggui/PycharmProjects/nbdevlib/engineering_panel.ipynb\n",
      "converting: /Users/luoyonggui/PycharmProjects/nbdevlib/algo_ml_shallow_tree_catboost.ipynb\n",
      "converting: /Users/luoyonggui/PycharmProjects/nbdevlib/engineering_nbdev.ipynb\n",
      "converting: /Users/luoyonggui/PycharmProjects/nbdevlib/dl_keras.ipynb\n",
      "[Errno 2] No such file or directory: '/Users/luoyonggui/PycharmProjects/nbdevlib/attachment:%E5%9B%BE%E7%89%87.png'\n",
      "converting: /Users/luoyonggui/PycharmProjects/nbdevlib/00_template.ipynb\n",
      "An error occurred while executing the following cell:\n",
      "------------------\n",
      "#export\n",
      "from nbdev.showdoc import show_doc\n",
      "from nbdevlib.algo.ml.shallow.tree.catboost import *\n",
      "------------------\n",
      "\n",
      "Traceback \u001b[0;36m(most recent call last)\u001b[0m:\n",
      "\n",
      "  File \u001b[1;32m\"/Users/luoyonggui/anaconda3/lib/python3.7/site-packages/IPython/core/interactiveshell.py\"\u001b[0m, line \u001b[1;32m3296\u001b[0m, in \u001b[1;35mrun_code\u001b[0m\n",
      "    exec(code_obj, self.user_global_ns, self.user_ns)\n",
      "\n",
      "\u001b[0;36m  File \u001b[0;32m\"<ipython-input-1-6e7732bd9673>\"\u001b[0;36m, line \u001b[0;32m3\u001b[0;36m, in \u001b[0;35m<module>\u001b[0;36m\u001b[0m\n",
      "\u001b[0;31m    from nbdevlib.algo.ml.shallow.tree.catboost import *\u001b[0m\n",
      "\n",
      "\u001b[0;36m  File \u001b[0;32m\"/Users/luoyonggui/PycharmProjects/nbdevlib/nbdevlib/algo/ml/shallow/tree/catboost.py\"\u001b[0;36m, line \u001b[0;32m50\u001b[0m\n",
      "\u001b[0;31m    ss.append(dfs_T.iloc[:,i].copy().sort_values(ascending=False).iloc[:5])\u001b[0m\n",
      "\u001b[0m     ^\u001b[0m\n",
      "\u001b[0;31mIndentationError\u001b[0m\u001b[0;31m:\u001b[0m expected an indented block\n",
      "\n",
      "IndentationError: expected an indented block (catboost.py, line 50)\n",
      "\n",
      "Traceback (most recent call last):\n",
      "  File \"/Users/luoyonggui/anaconda3/bin/nbdev_build_docs\", line 10, in <module>\n",
      "    sys.exit(nbdev_build_docs())\n",
      "  File \"/Users/luoyonggui/anaconda3/lib/python3.7/site-packages/fastscript/core.py\", line 73, in _f\n",
      "    func(**args.__dict__)\n",
      "  File \"/Users/luoyonggui/anaconda3/lib/python3.7/site-packages/nbdev/cli.py\", line 101, in nbdev_build_docs\n",
      "    notebook2html(fname=fname, force_all=force_all, n_workers=n_workers)\n",
      "  File \"/Users/luoyonggui/anaconda3/lib/python3.7/site-packages/nbdev/export2html.py\", line 522, in notebook2html\n",
      "    raise Exception(msg + '\\n'.join([f.name for p,f in zip(passed,files) if not p]))\n",
      "Exception: Conversion failed on the following:\n",
      "dl_keras.ipynb\n",
      "algo_ml_shallow_tree_catboost.ipynb\n"
     ]
    }
   ],
   "source": [
    "!nbdev_build_docs"
   ]
  },
  {
   "cell_type": "code",
   "execution_count": null,
   "metadata": {},
   "outputs": [],
   "source": []
  }
 ],
 "metadata": {
  "kernelspec": {
   "display_name": "Python 3",
   "language": "python",
   "name": "python3"
  },
  "language_info": {
   "codemirror_mode": {
    "name": "ipython",
    "version": 3
   },
   "file_extension": ".py",
   "mimetype": "text/x-python",
   "name": "python",
   "nbconvert_exporter": "python",
   "pygments_lexer": "ipython3",
   "version": "3.7.3"
  },
  "toc": {
   "base_numbering": 1,
   "nav_menu": {},
   "number_sections": true,
   "sideBar": true,
   "skip_h1_title": false,
   "title_cell": "Table of Contents",
   "title_sidebar": "Contents",
   "toc_cell": false,
   "toc_position": {},
   "toc_section_display": true,
   "toc_window_display": true
  }
 },
 "nbformat": 4,
 "nbformat_minor": 2
}
